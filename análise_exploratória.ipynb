{
 "cells": [
  {
   "cell_type": "markdown",
   "metadata": {},
   "source": [
    "# Análise de Dados - Olist\n",
    "\n",
    "Este jupyter notebook apresenta uma análise geral dos dados da plataforma de vendas Olist, organizando e visualizando informações sobre clientes, produtos e vendas."
   ]
  },
  {
   "cell_type": "markdown",
   "metadata": {},
   "source": [
    "### 1. Importação das Bibliotecas e Leitura dos Dados\n",
    "\n",
    "Carregamos os arquivos CSV para os respectivos DataFrames."
   ]
  },
  {
   "cell_type": "code",
   "execution_count": null,
   "metadata": {},
   "outputs": [],
   "source": [
    "import pandas as pd\n",
    "import matplotlib.pyplot as plt\n",
    "\n",
    "pd.set_option('display.max_columns', None)\n",
    "pd.set_option('display.max_rows', None)\n",
    "pd.set_option('display.max_colwidth', None)\n",
    "pd.set_option('expand_frame_repr', False)\n",
    "\n",
    "caminho_arquivos = {\n",
    "    \"clientes\": \"dados/olist_customers_dataset.csv\",\n",
    "    \"geolocalizacao\": \"dados/olist_geolocation_dataset.csv\",\n",
    "    \"itens_pedidos\": \"dados/olist_order_items_dataset.csv\",\n",
    "    \"pagamentos_pedidos\": \"dados/olist_order_payments_dataset.csv\",\n",
    "    \"avaliacoes_pedidos\": \"dados/olist_order_reviews_dataset.csv\",\n",
    "    \"pedidos\": \"dados/olist_orders_dataset.csv\",\n",
    "    \"produtos\": \"dados/olist_products_dataset.csv\",\n",
    "    \"vendedores\": \"dados/olist_sellers_dataset.csv\",\n",
    "    \"traducao_categorias_produtos\": \"dados/product_category_name_translation.csv\",\n",
    "}\n",
    "\n",
    "dataframes = {nome: pd.read_csv(caminho) for nome, caminho in caminho_arquivos.items()}\n",
    "\n",
    "clientes_df = dataframes[\"clientes\"]\n",
    "geolocalizacao_df = dataframes[\"geolocalizacao\"]\n",
    "itens_pedidos_df = dataframes[\"itens_pedidos\"]\n",
    "pagamentos_pedidos_df = dataframes[\"pagamentos_pedidos\"]\n",
    "avaliacoes_pedidos_df = dataframes[\"avaliacoes_pedidos\"]\n",
    "pedidos_df = dataframes[\"pedidos\"]\n",
    "produtos_df = dataframes[\"produtos\"]\n",
    "vendedores_df = dataframes[\"vendedores\"]\n",
    "traducao_categorias_produtos_df = dataframes[\"traducao_categorias_produtos\"]"
   ]
  },
  {
   "cell_type": "markdown",
   "metadata": {},
   "source": [
    "### 2. Pré-visualização dos Dados\n",
    "\n",
    "Exibimos uma amostra de cada DataFrame para entender sua estrutura e conteúdo."
   ]
  },
  {
   "cell_type": "code",
   "execution_count": null,
   "metadata": {},
   "outputs": [],
   "source": [
    "clientes_df.sample(2)"
   ]
  },
  {
   "cell_type": "code",
   "execution_count": null,
   "metadata": {},
   "outputs": [],
   "source": [
    "geolocalizacao_df.sample(2)"
   ]
  },
  {
   "cell_type": "code",
   "execution_count": null,
   "metadata": {},
   "outputs": [],
   "source": [
    "itens_pedidos_df.sample(2)"
   ]
  },
  {
   "cell_type": "code",
   "execution_count": null,
   "metadata": {},
   "outputs": [],
   "source": [
    "pagamentos_pedidos_df.sample(2)"
   ]
  },
  {
   "cell_type": "code",
   "execution_count": null,
   "metadata": {},
   "outputs": [],
   "source": [
    "avaliacoes_pedidos_df.sample(2)"
   ]
  },
  {
   "cell_type": "code",
   "execution_count": null,
   "metadata": {},
   "outputs": [],
   "source": [
    "pedidos_df.sample(2)"
   ]
  },
  {
   "cell_type": "code",
   "execution_count": null,
   "metadata": {},
   "outputs": [],
   "source": [
    "produtos_df.sample(2)"
   ]
  },
  {
   "cell_type": "code",
   "execution_count": null,
   "metadata": {},
   "outputs": [],
   "source": [
    "vendedores_df.sample(5)"
   ]
  },
  {
   "cell_type": "code",
   "execution_count": null,
   "metadata": {},
   "outputs": [],
   "source": [
    "traducao_categorias_produtos_df.sample(2)"
   ]
  },
  {
   "cell_type": "code",
   "execution_count": null,
   "metadata": {},
   "outputs": [],
   "source": [
    "produtos_df.describe()"
   ]
  },
  {
   "cell_type": "markdown",
   "metadata": {},
   "source": [
    "### 4. Tratamento de Dados"
   ]
  },
  {
   "cell_type": "markdown",
   "metadata": {},
   "source": [
    "#### 4.1 Identificação de Valores Ausentes\n",
    "\n",
    "Identificamos valores ausentes em cada coluna dos DataFrames e organizamos os resultados em uma tabela consolidada para melhor visualização."
   ]
  },
  {
   "cell_type": "code",
   "execution_count": null,
   "metadata": {},
   "outputs": [],
   "source": [
    "resumo = []\n",
    "\n",
    "for nome, df in dataframes.items():\n",
    "    valores_ausentes = df.isnull().sum() \n",
    "    df_resumo = pd.DataFrame({\n",
    "        \"DataFrame\": [nome] * len(valores_ausentes),\n",
    "        \"Coluna\": valores_ausentes.index,\n",
    "        \"Valores ausentes\": valores_ausentes.values\n",
    "    })\n",
    "    resumo.append(df_resumo)\n",
    "    \n",
    "df_resumo_final = pd.concat(resumo, ignore_index=True)\n",
    "df_resumo_final\n"
   ]
  },
  {
   "cell_type": "markdown",
   "metadata": {},
   "source": [
    "#### 4.2 Substituição de Valores Ausentes"
   ]
  },
  {
   "cell_type": "code",
   "execution_count": null,
   "metadata": {},
   "outputs": [],
   "source": [
    "avaliacoes_pedidos_df['review_comment_message'] = avaliacoes_pedidos_df['review_comment_message'].fillna('Sem Comentário')\n",
    "avaliacoes_pedidos_df['review_comment_title'] = avaliacoes_pedidos_df['review_comment_title'].fillna('Sem Título')"
   ]
  },
  {
   "cell_type": "code",
   "execution_count": null,
   "metadata": {},
   "outputs": [],
   "source": [
    "# preenche valores ausentes com a média nas colunas numéricas do DataFrame 'produtos_df'\n",
    "colunas_numericas = ['product_name_lenght', 'product_description_lenght', 'product_photos_qty', 'product_weight_g', 'product_length_cm', 'product_height_cm', 'product_width_cm']\n",
    "\n",
    "produtos_df[colunas_numericas] = produtos_df[colunas_numericas].apply(lambda col: col.fillna(col.mean()))"
   ]
  },
  {
   "cell_type": "markdown",
   "metadata": {},
   "source": [
    "### 5. Análise Exploratória de Dados (EDA)\n",
    "\n",
    "Exploramos os dados para obter _insights_ sobre tempos de entrega, vendas por categoria e vendas por localização geográfica."
   ]
  },
  {
   "cell_type": "markdown",
   "metadata": {},
   "source": [
    "#### 5.1 Tempo Médio de Entrega\n",
    "\n",
    "Calculamos o tempo médio de entrega com base nas datas de compra e entrega ao cliente:"
   ]
  },
  {
   "cell_type": "code",
   "execution_count": null,
   "metadata": {},
   "outputs": [],
   "source": [
    "pedidos_df['order_delivered_customer_date'] = pd.to_datetime(pedidos_df['order_delivered_customer_date'])\n",
    "pedidos_df['order_purchase_timestamp'] = pd.to_datetime(pedidos_df['order_purchase_timestamp'])\n",
    "pedidos_df['delivery_time'] = (pedidos_df['order_delivered_customer_date'] - pedidos_df['order_purchase_timestamp']).dt.days\n",
    "\n",
    "tempo_medio_entrega = pedidos_df['delivery_time'].mean()\n",
    "tempo_medio_entrega = round(tempo_medio_entrega, 2)\n",
    "print(f\"Tempo médio de entrega: {tempo_medio_entrega} dias\")"
   ]
  },
  {
   "cell_type": "markdown",
   "metadata": {},
   "source": [
    "#### 5.2 Vendas por Categoria de Produto\n",
    "\n",
    "Analisamos a frequência de vendas por categoria de produto, integrando os dados de itens de pedidos e produtos."
   ]
  },
  {
   "cell_type": "code",
   "execution_count": null,
   "metadata": {},
   "outputs": [],
   "source": [
    "itens_produtos = pd.merge(itens_pedidos_df, produtos_df, on='product_id', how='inner')\n",
    "\n",
    "vendas_por_categoria = itens_produtos['product_category_name'].value_counts()\n",
    "\n",
    "vendas_por_categoria_df = pd.DataFrame(vendas_por_categoria).reset_index()\n",
    "vendas_por_categoria_df.columns = ['Categoria de Produto', 'Frequência de Vendas']\n",
    "\n",
    "vendas_por_categoria_df\n"
   ]
  },
  {
   "cell_type": "markdown",
   "metadata": {},
   "source": [
    "#### 5.3 Vendas por Localização Geográfica\n",
    "\n",
    "Exploramos a distribuição das vendas com base nas informações de localização de clientes e geolocalização."
   ]
  },
  {
   "cell_type": "markdown",
   "metadata": {},
   "source": [
    "##### Por estado:"
   ]
  },
  {
   "cell_type": "code",
   "execution_count": null,
   "metadata": {},
   "outputs": [],
   "source": [
    "vendas_geolocalizacao = pd.merge(clientes_df, geolocalizacao_df, \n",
    "                                  left_on='customer_zip_code_prefix', \n",
    "                                  right_on='geolocation_zip_code_prefix', \n",
    "                                  how='inner')\n",
    "\n",
    "vendas_por_estado = vendas_geolocalizacao['geolocation_state'].value_counts()\n",
    "\n",
    "vendas_por_estado_df = pd.DataFrame(vendas_por_estado).reset_index()\n",
    "vendas_por_estado_df.columns = ['Estado', 'Frequência de Vendas']\n",
    "\n",
    "vendas_por_estado_df\n"
   ]
  },
  {
   "cell_type": "markdown",
   "metadata": {},
   "source": [
    "#### Por cidade:"
   ]
  },
  {
   "cell_type": "code",
   "execution_count": null,
   "metadata": {},
   "outputs": [],
   "source": [
    "vendas_por_cidade = vendas_geolocalizacao['geolocation_city'].value_counts()\n",
    "\n",
    "vendas_por_cidade_df = pd.DataFrame(vendas_por_cidade).reset_index()\n",
    "vendas_por_cidade_df.columns = ['Cidade', 'Frequência de Vendas']\n",
    "\n",
    "vendas_por_cidade_df.head(50)\n"
   ]
  },
  {
   "cell_type": "code",
   "execution_count": null,
   "metadata": {},
   "outputs": [],
   "source": []
  }
 ],
 "metadata": {
  "kernelspec": {
   "display_name": ".venv",
   "language": "python",
   "name": "python3"
  },
  "language_info": {
   "codemirror_mode": {
    "name": "ipython",
    "version": 3
   },
   "file_extension": ".py",
   "mimetype": "text/x-python",
   "name": "python",
   "nbconvert_exporter": "python",
   "pygments_lexer": "ipython3",
   "version": "3.12.7"
  }
 },
 "nbformat": 4,
 "nbformat_minor": 2
}
